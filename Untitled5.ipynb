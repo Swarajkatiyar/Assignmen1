{
 "cells": [
  {
   "cell_type": "code",
   "execution_count": 1,
   "id": "ace6739d",
   "metadata": {},
   "outputs": [],
   "source": [
    "s=\"swaraj\""
   ]
  },
  {
   "cell_type": "code",
   "execution_count": 2,
   "id": "bf5ac614",
   "metadata": {},
   "outputs": [],
   "source": [
    "l=[2,4.5,True,\"data\"]"
   ]
  },
  {
   "cell_type": "code",
   "execution_count": 3,
   "id": "015adec5",
   "metadata": {},
   "outputs": [],
   "source": [
    "f=6.57"
   ]
  },
  {
   "cell_type": "code",
   "execution_count": 4,
   "id": "1542c476",
   "metadata": {},
   "outputs": [],
   "source": [
    "t=(\"swaraj\",23,3.45)"
   ]
  },
  {
   "cell_type": "code",
   "execution_count": 6,
   "id": "bef36d36",
   "metadata": {},
   "outputs": [
    {
     "name": "stdout",
     "output_type": "stream",
     "text": [
      "<class 'tuple'>\n"
     ]
    }
   ],
   "source": [
    "print(type(t))"
   ]
  },
  {
   "cell_type": "markdown",
   "id": "0d4d53be",
   "metadata": {},
   "source": [
    "Q2. Given are some following variables containing data: ans- string , list , num\n",
    "\n",
    "Q3. Explain the use of the following operators using an example: (i) / - give quotient of two numbers upto decimal places ex- 3/3=1.0 (ii) % - give reminder of two numbers ex-3%2=1 (iii) //- give quotient but only integer places ex-3/3=1 (iv) ** - it is used for calculating exponential of one on another number ex-3**3=27"
   ]
  },
  {
   "cell_type": "markdown",
   "id": "08de5100",
   "metadata": {},
   "source": [
    "Question 4.Create a list of length 10 of your choice containing multiple type data.using for loop print the data type"
   ]
  },
  {
   "cell_type": "code",
   "execution_count": 7,
   "id": "b4f68bb1",
   "metadata": {},
   "outputs": [
    {
     "name": "stdout",
     "output_type": "stream",
     "text": [
      "1\n",
      "<class 'int'>\n",
      "swraj\n",
      "<class 'str'>\n",
      "data_science\n",
      "<class 'str'>\n",
      "98.6\n",
      "<class 'float'>\n",
      "4\n",
      "<class 'int'>\n",
      "9\n",
      "<class 'int'>\n",
      "python\n",
      "<class 'str'>\n",
      "jupyter\n",
      "<class 'str'>\n",
      "23\n",
      "<class 'int'>\n",
      "love\n",
      "<class 'str'>\n"
     ]
    }
   ],
   "source": [
    "l=[1,\"swraj\",\"data_science\",98.6,4,9,\"python\",\"jupyter\",23,\"love\"]\n",
    "for i in l:\n",
    "    print(i)\n",
    "    print (type(i))"
   ]
  },
  {
   "cell_type": "markdown",
   "id": "5c9fe711",
   "metadata": {},
   "source": [
    "Q5. Using a while loop, verify if the number A is purely divisible by number B and if so then how many times it can be divisible."
   ]
  },
  {
   "cell_type": "code",
   "execution_count": null,
   "id": "4673b033",
   "metadata": {},
   "outputs": [],
   "source": [
    "A=int(input())\n",
    "B=int(input())\n",
    "c=0\n",
    "while A>B:\n",
    "    if A%B==0:\n",
    "        print(\"purely divisible\" and type(A/B)==int)\n",
    "        c+=1\n",
    "        A/B==''\n",
    "    else:\n",
    "        print(\"not divisible\")"
   ]
  },
  {
   "cell_type": "code",
   "execution_count": 2,
   "id": "2acce5fc",
   "metadata": {},
   "outputs": [
    {
     "name": "stdout",
     "output_type": "stream",
     "text": [
      "45\n",
      "2\n",
      "not divisible\n"
     ]
    }
   ],
   "source": [
    "a=int(input())\n",
    "b=int(input())\n",
    "c=0\n",
    "if a/b==0:\n",
    "    while(a/b>=b and type(a/b)==int):\n",
    "        c+=1\n",
    "        a/=b\n",
    "    c\n",
    "else:\n",
    "    print(\"not divisible\")"
   ]
  },
  {
   "cell_type": "code",
   "execution_count": 3,
   "id": "ec7e0a34",
   "metadata": {},
   "outputs": [],
   "source": [
    "# Q6. Create a list containing 25 int type data. Using for loop and if-else condition print if the element is\n",
    "# divisible by 3 or not."
   ]
  },
  {
   "cell_type": "code",
   "execution_count": 13,
   "id": "4a9dab2a",
   "metadata": {},
   "outputs": [],
   "source": [
    "l=[3,4,5,6,86,4,7,6,8,5,8,9,68,59,40,68,445,65,56,45,34,67,49,35,99]\n",
    "l1=[]\n",
    "l2=[]\n",
    "for i in l:\n",
    "    if i%3==0:\n",
    "        l1.append(i)\n",
    "    else:\n",
    "        l2.append(i)"
   ]
  },
  {
   "cell_type": "code",
   "execution_count": 14,
   "id": "152efbea",
   "metadata": {},
   "outputs": [
    {
     "data": {
      "text/plain": [
       "[3, 6, 6, 9, 45, 99]"
      ]
     },
     "execution_count": 14,
     "metadata": {},
     "output_type": "execute_result"
    }
   ],
   "source": [
    "l1"
   ]
  },
  {
   "cell_type": "code",
   "execution_count": 15,
   "id": "4a2208d8",
   "metadata": {},
   "outputs": [
    {
     "data": {
      "text/plain": [
       "[4, 5, 86, 4, 7, 8, 5, 8, 68, 59, 40, 68, 445, 65, 56, 34, 67, 49, 35]"
      ]
     },
     "execution_count": 15,
     "metadata": {},
     "output_type": "execute_result"
    }
   ],
   "source": [
    "l2"
   ]
  },
  {
   "cell_type": "markdown",
   "id": "c21f31e3",
   "metadata": {},
   "source": [
    "Q7. What do you understand about mutable and immutable data types? Give examples for both showing this property."
   ]
  },
  {
   "cell_type": "code",
   "execution_count": 16,
   "id": "e42a9594",
   "metadata": {},
   "outputs": [],
   "source": [
    "l=[2,3,4,5,7]"
   ]
  },
  {
   "cell_type": "code",
   "execution_count": 17,
   "id": "72d0d5f8",
   "metadata": {},
   "outputs": [],
   "source": [
    "l[1]=10"
   ]
  },
  {
   "cell_type": "code",
   "execution_count": 18,
   "id": "c7dd2d3e",
   "metadata": {},
   "outputs": [
    {
     "data": {
      "text/plain": [
       "[2, 10, 4, 5, 7]"
      ]
     },
     "execution_count": 18,
     "metadata": {},
     "output_type": "execute_result"
    }
   ],
   "source": [
    "l"
   ]
  },
  {
   "cell_type": "code",
   "execution_count": 19,
   "id": "d53c8ea7",
   "metadata": {},
   "outputs": [],
   "source": [
    "# but "
   ]
  },
  {
   "cell_type": "code",
   "execution_count": 20,
   "id": "cbd94edf",
   "metadata": {},
   "outputs": [],
   "source": [
    "t=(2,3,4,5)"
   ]
  },
  {
   "cell_type": "code",
   "execution_count": 21,
   "id": "e2f68347",
   "metadata": {},
   "outputs": [
    {
     "ename": "TypeError",
     "evalue": "'tuple' object does not support item assignment",
     "output_type": "error",
     "traceback": [
      "\u001b[1;31m---------------------------------------------------------------------------\u001b[0m",
      "\u001b[1;31mTypeError\u001b[0m                                 Traceback (most recent call last)",
      "Cell \u001b[1;32mIn[21], line 1\u001b[0m\n\u001b[1;32m----> 1\u001b[0m t[\u001b[38;5;241m1\u001b[39m]\u001b[38;5;241m=\u001b[39m\u001b[38;5;241m56\u001b[39m\n",
      "\u001b[1;31mTypeError\u001b[0m: 'tuple' object does not support item assignment"
     ]
    }
   ],
   "source": [
    "t[1]=56"
   ]
  },
  {
   "cell_type": "code",
   "execution_count": null,
   "id": "807b1b7f",
   "metadata": {},
   "outputs": [],
   "source": []
  }
 ],
 "metadata": {
  "kernelspec": {
   "display_name": "Python 3 (ipykernel)",
   "language": "python",
   "name": "python3"
  },
  "language_info": {
   "codemirror_mode": {
    "name": "ipython",
    "version": 3
   },
   "file_extension": ".py",
   "mimetype": "text/x-python",
   "name": "python",
   "nbconvert_exporter": "python",
   "pygments_lexer": "ipython3",
   "version": "3.10.9"
  }
 },
 "nbformat": 4,
 "nbformat_minor": 5
}
